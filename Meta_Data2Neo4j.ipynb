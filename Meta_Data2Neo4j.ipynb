{
 "cells": [
  {
   "cell_type": "markdown",
   "id": "b6d6f981",
   "metadata": {},
   "source": [
    "# This notebook loads knowledge into a Neo4j KG\n",
    "\n",
    "- Author: Victor Z. Chen (founder@gopeaks.org)\n",
    "- Date: April 2, 2022"
   ]
  },
  {
   "cell_type": "code",
   "execution_count": 1,
   "id": "0d280056",
   "metadata": {},
   "outputs": [],
   "source": [
    "import neo4j\n",
    "import numpy as np\n",
    "import pandas as pd\n",
    "pd.set_option('display.max_columns', None)\n",
    "pd.set_option('display.max_rows', None)\n",
    "pd.set_option('display.max_colwidth', None)\n",
    "from IPython.display import display"
   ]
  },
  {
   "cell_type": "code",
   "execution_count": 2,
   "id": "07c673be",
   "metadata": {},
   "outputs": [],
   "source": [
    "def my_neo4j_wipe_out_database():\n",
    "    \"wipe out database by deleting all nodes and relationships\"\n",
    "    \n",
    "    query = \"match (node)-[relationship]->() delete node, relationship\"\n",
    "    session.run(query)\n",
    "    \n",
    "    query = \"match (node) delete node\"\n",
    "    session.run(query)"
   ]
  },
  {
   "cell_type": "markdown",
   "id": "7a2498ba",
   "metadata": {},
   "source": [
    "# Create nodes and edges in pandas df\n",
    "### Load the full data into a pandas df"
   ]
  },
  {
   "cell_type": "code",
   "execution_count": 6,
   "id": "45bdef75",
   "metadata": {
    "scrolled": true
   },
   "outputs": [
    {
     "data": {
      "text/plain": [
       "(13637, 41)"
      ]
     },
     "execution_count": 6,
     "metadata": {},
     "output_type": "execute_result"
    }
   ],
   "source": [
    "d = pd.read_csv(\"wellbeing_meta.csv\")\n",
    "d.shape"
   ]
  },
  {
   "cell_type": "code",
   "execution_count": 7,
   "id": "40864dce",
   "metadata": {},
   "outputs": [],
   "source": [
    "nodes_cons = ['v1_name', 'v1_label1', 'v1_label2', 'v1_label3', \n",
    "              'v2_name', 'v2_label1', 'v2_label2', 'v2_label3', \n",
    "              'source', 'paperid']\n",
    "\n",
    "nodes_cons_new = ['v_name', 'v_label1', 'v_label2', 'v_label3', \n",
    "              'source', 'paperid']\n",
    "\n",
    "nodes_vars = ['v1', 'v1_description', 'v1_name', 'v1_mean', 'v1_std', 'v1_alpha', \n",
    "              'v2', 'v2_description', 'v2_name', 'v2_mean', 'v2_std', 'v2_alpha', \n",
    "              'source', 'paperid']\n",
    "\n",
    "nodes_vars_new = ['v', 'v_description', 'v_name', 'v_mean', 'v_std', 'v_alpha', \n",
    "              'source', 'paperid']\n",
    "\n",
    "edges_cons = ['v1_name', 'v2_name', \n",
    "              'source', 'paperid', \n",
    "              'theory', 'hypothesis_id', 'hypothesis', 'hypothesis_link']\n",
    "\n",
    "edges_vars = ['v1', 'v1_description', 'v1_name',\n",
    "              'v2', 'v2_description', 'v2_name', \n",
    "              'source', 'paperid', \n",
    "              'sample_size', 'sample_years', 'sample_country', 'sample_industry', \n",
    "              'correlation']"
   ]
  },
  {
   "cell_type": "markdown",
   "id": "adf90214",
   "metadata": {},
   "source": [
    "### Nodes (Constructs)"
   ]
  },
  {
   "cell_type": "code",
   "execution_count": 8,
   "id": "0863c706",
   "metadata": {},
   "outputs": [
    {
     "data": {
      "text/plain": [
       "(468, 7)"
      ]
     },
     "execution_count": 8,
     "metadata": {},
     "output_type": "execute_result"
    }
   ],
   "source": [
    "c1s = d[[i for i in nodes_cons if 'v1' in i] + ['source', 'paperid']]\n",
    "c1s.columns = nodes_cons_new\n",
    "c2s = d[[i for i in nodes_cons if 'v2' in i] + ['source', 'paperid']]\n",
    "c2s.columns = nodes_cons_new\n",
    "cs = pd.concat([c1s, c2s], axis = 0).drop_duplicates(subset=['v_name'], keep='first').reset_index()\n",
    "cs.loc[cs['v_label1']==\"e\", 'v_label1']='environment'\n",
    "cs.loc[cs['v_label1']==\"p\", 'v_label1']='person'\n",
    "cs.loc[cs['v_label1']==\"i\", 'v_label1']='interaction'\n",
    "cs.loc[cs['v_label1']==\"1\", 'v_label1']='well-being, physical'\n",
    "cs.loc[cs['v_label1']==\"2\", 'v_label1']='well-being, economic'\n",
    "cs.loc[cs['v_label1']==\"3\", 'v_label1']='well-being, hedonic'\n",
    "cs.loc[cs['v_label1']==\"4\", 'v_label1']='well-being, eudaimonic'\n",
    "cs.loc[cs['v_label1']==\"5\", 'v_label1']='well-being, social'\n",
    "cs.loc[cs['v_label1']==\"10\", 'v_label1']='performance'\n",
    "cs.loc[cs['v_label3']==\"0\", 'v_label3']=cs['v_label2']\n",
    "cs = cs[cs['v_label1']!=\"0\"]\n",
    "cs = cs[cs['v_label1']!=\"999\"]\n",
    "cs.shape"
   ]
  },
  {
   "cell_type": "markdown",
   "id": "b062b541",
   "metadata": {},
   "source": [
    "### Nodes (Variables)"
   ]
  },
  {
   "cell_type": "code",
   "execution_count": 9,
   "id": "2448f951",
   "metadata": {},
   "outputs": [
    {
     "data": {
      "text/plain": [
       "(2883, 9)"
      ]
     },
     "execution_count": 9,
     "metadata": {},
     "output_type": "execute_result"
    }
   ],
   "source": [
    "v1s = d[[i for i in nodes_vars if 'v1' in i] + ['source', 'paperid']]\n",
    "v1s.columns = nodes_vars_new\n",
    "v2s = d[[i for i in nodes_vars if 'v2' in i] + ['source', 'paperid']]\n",
    "v2s.columns = nodes_vars_new\n",
    "vs = pd.concat([v1s, v2s], axis = 0).drop_duplicates(subset=['v', 'v_description'], keep='first').reset_index()\n",
    "vs.shape"
   ]
  },
  {
   "cell_type": "markdown",
   "id": "45087672",
   "metadata": {},
   "source": [
    "### Edges (Theories and Hypotheses)"
   ]
  },
  {
   "cell_type": "code",
   "execution_count": 10,
   "id": "5e0b0ed0",
   "metadata": {},
   "outputs": [
    {
     "data": {
      "text/plain": [
       "(1372, 9)"
      ]
     },
     "execution_count": 10,
     "metadata": {},
     "output_type": "execute_result"
    }
   ],
   "source": [
    "edges_theory = d[[i for i in edges_cons]]\n",
    "edges_theory = edges_theory[~edges_theory['hypothesis'].isnull()]\n",
    "edges_theory = edges_theory.drop_duplicates(subset=['v1_name', 'v2_name', 'source', 'paperid', 'theory', 'hypothesis_id'], \n",
    "                                            keep='first').reset_index()\n",
    "edges_theory.shape"
   ]
  },
  {
   "cell_type": "markdown",
   "id": "8711cc9c",
   "metadata": {},
   "source": [
    "### Edges (Samples and Evidence)"
   ]
  },
  {
   "cell_type": "code",
   "execution_count": 11,
   "id": "b0a0f28f",
   "metadata": {},
   "outputs": [
    {
     "data": {
      "text/plain": [
       "(11493, 14)"
      ]
     },
     "execution_count": 11,
     "metadata": {},
     "output_type": "execute_result"
    }
   ],
   "source": [
    "edges_evidence = d[[i for i in edges_vars]]\n",
    "edges_evidence = edges_evidence[~edges_evidence['correlation'].isnull()]\n",
    "edges_evidence = edges_evidence.drop_duplicates(subset=['v1', 'v1_description', 'v1_name',\n",
    "                                                        'v2', 'v2_description', 'v2_name', \n",
    "                                                        'source', 'paperid'], \n",
    "                                                keep='first').reset_index()\n",
    "edges_evidence.shape"
   ]
  },
  {
   "cell_type": "markdown",
   "id": "ad714d55",
   "metadata": {},
   "source": [
    "# Load nodes and edges into a knowledge graph (KG) database\n",
    "### Open a local Neo4j desktop or AuraDB"
   ]
  },
  {
   "cell_type": "code",
   "execution_count": 24,
   "id": "ba0791e9",
   "metadata": {},
   "outputs": [],
   "source": [
    "driver = neo4j.GraphDatabase.driver(uri=\"bolt://localhost:7687\", auth=(\"neo4j\",\"GoPeaks\"))"
   ]
  },
  {
   "cell_type": "code",
   "execution_count": 25,
   "id": "f5474a5a",
   "metadata": {},
   "outputs": [],
   "source": [
    "session = driver.session(database=\"neo4j\")"
   ]
  },
  {
   "cell_type": "markdown",
   "id": "873da70e",
   "metadata": {},
   "source": [
    "### Clean Neo4j, and create nodes"
   ]
  },
  {
   "cell_type": "code",
   "execution_count": 26,
   "id": "540a0edd",
   "metadata": {},
   "outputs": [],
   "source": [
    "my_neo4j_wipe_out_database()"
   ]
  },
  {
   "cell_type": "markdown",
   "id": "e274bca5",
   "metadata": {},
   "source": [
    "Create constructs and tag taxonomic labels"
   ]
  },
  {
   "cell_type": "code",
   "execution_count": 27,
   "id": "48847fcb",
   "metadata": {},
   "outputs": [],
   "source": [
    "for i in cs.reset_index().index:\n",
    "\n",
    "    nm = str(cs.iloc[i]['v_name'])\n",
    "    l1 = str(cs.iloc[i]['v_label1'])\n",
    "    l2 = str(cs.iloc[i]['v_label2'])\n",
    "    l3 = str(cs.iloc[i]['v_label3'])\n",
    "    sc = str(cs.iloc[i]['source'])\n",
    "    pr = str(cs.iloc[i]['paperid'])\n",
    "    \n",
    "    tags = \"{\" + f\"name: \\\"{nm}\\\", \"\n",
    "    tags += f\"label1: \\\"{l1}\\\", \"\n",
    "    tags += f\"label2: \\\"{l2}\\\", \"\n",
    "    tags += f\"label3: \\\"{l3}\\\", \"\n",
    "    tags += f\"source: \\\"{sc}\\\", \"\n",
    "    tags += f\"paper_id: \\\"{pr}\\\"\"\n",
    "    tags += \"}\"\n",
    "    \n",
    "    query = f\"CREATE (c: construct {tags})\"\n",
    "\n",
    "    session.run(query)"
   ]
  },
  {
   "cell_type": "markdown",
   "id": "947b4204",
   "metadata": {},
   "source": [
    "Create variables and tag statistical information"
   ]
  },
  {
   "cell_type": "code",
   "execution_count": 28,
   "id": "e8f09a3c",
   "metadata": {},
   "outputs": [],
   "source": [
    "for i in vs.index:\n",
    "    \n",
    "    nm_r = str(vs.iloc[i]['v'])\n",
    "    nm = str(vs.iloc[i]['v_name'])\n",
    "    de = str(vs.iloc[i]['v_description'])\n",
    "    miu = str(vs.iloc[i]['v_mean'])\n",
    "    std = str(vs.iloc[i]['v_std'])\n",
    "    alpha = str(vs.iloc[i]['v_alpha'])\n",
    "    sc = str(vs.iloc[i]['source'])\n",
    "    pr = str(vs.iloc[i]['paperid'])\n",
    "    \n",
    "    tags = \"{\" + f\"name: \\\"{nm}\\\", \"\n",
    "    tags += f\"name_raw: \\\"{nm_r}\\\", \"\n",
    "    tags += f\"description: \\\"{de}\\\", \"\n",
    "    tags += f\"mean: \\\"{miu}\\\", \"\n",
    "    tags += f\"std: \\\"{std}\\\", \"\n",
    "    tags += f\"alpha: \\\"{alpha}\\\", \"\n",
    "    tags += f\"source: \\\"{sc}\\\", \"\n",
    "    tags += f\"paper_id: \\\"{pr}\\\"\"\n",
    "    tags += \"}\"\n",
    "    \n",
    "    query = f\"CREATE (v: variable {tags})\"\n",
    "\n",
    "    session.run(query)"
   ]
  },
  {
   "cell_type": "markdown",
   "id": "8c6312c8",
   "metadata": {},
   "source": [
    "### Create edges\n",
    "Construct-Variable Links"
   ]
  },
  {
   "cell_type": "code",
   "execution_count": 29,
   "id": "23dec398",
   "metadata": {},
   "outputs": [],
   "source": [
    "for i in vs.index:\n",
    "    \n",
    "    nm_r = str(vs.iloc[i]['v'])\n",
    "    nm = str(vs.iloc[i]['v_name'])\n",
    "    de = str(vs.iloc[i]['v_description'])\n",
    "    miu = str(vs.iloc[i]['v_mean'])\n",
    "    std = str(vs.iloc[i]['v_std'])\n",
    "    alpha = str(vs.iloc[i]['v_alpha'])\n",
    "    sc = str(vs.iloc[i]['source'])\n",
    "    pr = str(vs.iloc[i]['paperid'])\n",
    "    \n",
    "    match = f\"WHERE c.name = \\\"{nm}\\\" AND v.name = \\\"{nm}\\\" \"\n",
    "    match += f\"AND v.name_raw = \\\"{nm_r}\\\" \"\n",
    "    match += f\"AND v.description = \\\"{de}\\\"\"\n",
    "    \n",
    "    tags = \"{\" + f\"source: \\\"{sc}\\\", \"\n",
    "    tags += f\"paper_id: \\\"{pr}\\\"\"\n",
    "    tags += \"}\"\n",
    "    \n",
    "    query = f\"\"\"\n",
    "    MATCH (v: variable), (c: construct)\n",
    "    {match}\n",
    "    CREATE (v)-[r:measures {tags}]->(c)\n",
    "    \"\"\"\n",
    "    session.run(query)"
   ]
  },
  {
   "cell_type": "markdown",
   "id": "b5836b63",
   "metadata": {},
   "source": [
    "Hypothesis and Theory"
   ]
  },
  {
   "cell_type": "code",
   "execution_count": 30,
   "id": "77f712a5",
   "metadata": {},
   "outputs": [],
   "source": [
    "for i in edges_theory.index:\n",
    "    \n",
    "    sc = str(edges_theory.iloc[i]['source'])\n",
    "    pr = str(edges_theory.iloc[i]['paperid'])\n",
    "    th = str(edges_theory.iloc[i]['theory'])\n",
    "    hypo_id = str(edges_theory.iloc[i]['hypothesis_id'])\n",
    "    hypo = str(edges_theory.iloc[i]['hypothesis'])\n",
    "    hypo_link = str(edges_theory.iloc[i]['hypothesis_link'])\n",
    "    \n",
    "    c1nm = str(edges_theory.iloc[i]['v1_name'])\n",
    "    c2nm = str(edges_theory.iloc[i]['v2_name'])\n",
    "    \n",
    "    match = f\"WHERE c1.name = \\\"{c1nm}\\\" AND c2.name = \\\"{c2nm}\\\" \"\n",
    "    match += f\"AND c1.source = \\\"{sc}\\\" AND c2.source = \\\"{sc}\\\" \"\n",
    "    match += f\"AND c1.paper_id = \\\"{pr}\\\" AND c2.paper_id = \\\"{pr}\\\"\"\n",
    "    \n",
    "    tags = \"{\" + f\"source: \\\"{sc}\\\", \"\n",
    "    tags += f\"paper_id: \\\"{pr}\\\", \"\n",
    "    tags += f\"theory: \\\"{th}\\\", \"\n",
    "    tags += f\"hypothesis_id: \\\"{hypo_id}\\\", \"\n",
    "    tags += f\"hypothesis: \\\"{hypo}\\\", \"\n",
    "    tags += f\"hypothesis_link: \\\"{hypo_link}\\\"\"\n",
    "    tags += \"}\"\n",
    "    \n",
    "    query = f\"\"\"\n",
    "    MATCH (c1: construct), (c2: construct)\n",
    "    {match}\n",
    "    CREATE (c1)-[r:causes {tags}]->(c2)\n",
    "    \"\"\"\n",
    "    session.run(query)"
   ]
  },
  {
   "cell_type": "markdown",
   "id": "6239eaa9",
   "metadata": {},
   "source": [
    "Correlations and Sample Statistics"
   ]
  },
  {
   "cell_type": "code",
   "execution_count": 31,
   "id": "9515e967",
   "metadata": {},
   "outputs": [],
   "source": [
    "for i in edges_evidence.index:\n",
    "    \n",
    "    sc = str(edges_evidence.iloc[i]['source'])\n",
    "    pr = str(edges_evidence.iloc[i]['paperid'])\n",
    "    N = str(edges_evidence.iloc[i]['sample_size'])\n",
    "    time = str(edges_evidence.iloc[i]['sample_years'])\n",
    "    place = str(edges_evidence.iloc[i]['sample_country'])\n",
    "    ind = str(edges_evidence.iloc[i]['sample_industry'])\n",
    "    corr = str(edges_evidence.iloc[i]['correlation'])\n",
    "    \n",
    "    v1 = str(edges_evidence.iloc[i]['v1'])\n",
    "    v2 = str(edges_evidence.iloc[i]['v2'])\n",
    "    v1nm = str(edges_evidence.iloc[i]['v1_name'])\n",
    "    v2nm = str(edges_evidence.iloc[i]['v2_name'])\n",
    "    v1de = str(edges_evidence.iloc[i]['v1_description'])\n",
    "    v2de = str(edges_evidence.iloc[i]['v2_description'])\n",
    "    \n",
    "    match = f\"WHERE v1.name_raw = \\\"{v1}\\\" AND v2.name_raw = \\\"{v2}\\\" \"\n",
    "    match += f\"AND v1.name = \\\"{v1nm}\\\" AND v2.name = \\\"{v2nm}\\\" \"\n",
    "    match += f\"AND v1.description = \\\"{v1de}\\\" AND v2.description = \\\"{v2de}\\\"\"\n",
    "    \n",
    "    tags = \"{\" + f\"source: \\\"{sc}\\\", \"\n",
    "    tags += f\"paper_id: \\\"{pr}\\\", \"\n",
    "    tags += f\"sample_size: \\\"{N}\\\", \"\n",
    "    tags += f\"sample_years: \\\"{time}\\\", \"\n",
    "    tags += f\"sample_countries: \\\"{place}\\\", \"\n",
    "    tags += f\"sample_industries: \\\"{ind}\\\", \"\n",
    "    tags += f\"correlation: \\\"{corr}\\\"\"\n",
    "    tags += \"}\"\n",
    "    \n",
    "    query = f\"\"\"\n",
    "    MATCH (v1: variable), (v2: variable)\n",
    "    {match}\n",
    "    CREATE (v1)-[r:correlates_with {tags}]->(v2)\n",
    "    \"\"\"\n",
    "    session.run(query)"
   ]
  },
  {
   "cell_type": "markdown",
   "id": "f5918492",
   "metadata": {},
   "source": [
    "Correlation is both-way, so duplicate all  the correlations for the other direction again."
   ]
  },
  {
   "cell_type": "code",
   "execution_count": 32,
   "id": "acaae5c3",
   "metadata": {},
   "outputs": [],
   "source": [
    "for i in edges_evidence.index:\n",
    "    \n",
    "    sc = str(edges_evidence.iloc[i]['source'])\n",
    "    pr = str(edges_evidence.iloc[i]['paperid'])\n",
    "    N = str(edges_evidence.iloc[i]['sample_size'])\n",
    "    time = str(edges_evidence.iloc[i]['sample_years'])\n",
    "    place = str(edges_evidence.iloc[i]['sample_country'])\n",
    "    ind = str(edges_evidence.iloc[i]['sample_industry'])\n",
    "    corr = str(edges_evidence.iloc[i]['correlation'])\n",
    "    \n",
    "    v1 = str(edges_evidence.iloc[i]['v1'])\n",
    "    v2 = str(edges_evidence.iloc[i]['v2'])\n",
    "    v1nm = str(edges_evidence.iloc[i]['v1_name'])\n",
    "    v2nm = str(edges_evidence.iloc[i]['v2_name'])\n",
    "    v1de = str(edges_evidence.iloc[i]['v1_description'])\n",
    "    v2de = str(edges_evidence.iloc[i]['v2_description'])\n",
    "    \n",
    "    match = f\"WHERE v1.name_raw = \\\"{v1}\\\" AND v2.name_raw = \\\"{v2}\\\" \"\n",
    "    match += f\"AND v1.name = \\\"{v1nm}\\\" AND v2.name = \\\"{v2nm}\\\" \"\n",
    "    match += f\"AND v1.description = \\\"{v1de}\\\" AND v2.description = \\\"{v2de}\\\"\"\n",
    "    \n",
    "    tags = \"{\" + f\"source: \\\"{sc}\\\", \"\n",
    "    tags += f\"paper_id: \\\"{pr}\\\", \"\n",
    "    tags += f\"sample_size: \\\"{N}\\\", \"\n",
    "    tags += f\"sample_years: \\\"{time}\\\", \"\n",
    "    tags += f\"sample_countries: \\\"{place}\\\", \"\n",
    "    tags += f\"sample_industries: \\\"{ind}\\\", \"\n",
    "    tags += f\"correlation: \\\"{corr}\\\"\"\n",
    "    tags += \"}\"\n",
    "    \n",
    "    query = f\"\"\"\n",
    "    MATCH (v1: variable), (v2: variable)\n",
    "    {match}\n",
    "    CREATE (v2)-[r:correlates_with {tags}]->(v1)\n",
    "    \"\"\"\n",
    "    session.run(query)"
   ]
  }
 ],
 "metadata": {
  "kernelspec": {
   "display_name": "Python 3 (ipykernel)",
   "language": "python",
   "name": "python3"
  },
  "language_info": {
   "codemirror_mode": {
    "name": "ipython",
    "version": 3
   },
   "file_extension": ".py",
   "mimetype": "text/x-python",
   "name": "python",
   "nbconvert_exporter": "python",
   "pygments_lexer": "ipython3",
   "version": "3.8.11"
  }
 },
 "nbformat": 4,
 "nbformat_minor": 5
}
